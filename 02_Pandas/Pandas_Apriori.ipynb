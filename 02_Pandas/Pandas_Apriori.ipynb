{
  "cells": [
    {
      "cell_type": "code",
      "execution_count": null,
      "metadata": {},
      "outputs": [],
      "source": [
        " #Resources that would help\n",
        "#https://pandas.pydata.org/docs/user_guide/10min.html\n",
        "#https://www.geeksforgeeks.org/introduction-to-pandas-in-python/?ref=lbp"
      ]
    },
    {
      "cell_type": "code",
      "execution_count": null,
      "metadata": {
        "colab": {
          "base_uri": "https://localhost:8080/",
          "height": 73
        },
        "id": "nSHhNzE4cezG",
        "outputId": "3031cc66-1489-4a1c-e32e-c6e0f9d72a46"
      },
      "outputs": [
        {
          "data": {
            "text/html": [
              "\n",
              "     <input type=\"file\" id=\"files-461a70ad-eb77-44b0-8c99-3fa3f6eb424b\" name=\"files[]\" multiple disabled\n",
              "        style=\"border:none\" />\n",
              "     <output id=\"result-461a70ad-eb77-44b0-8c99-3fa3f6eb424b\">\n",
              "      Upload widget is only available when the cell has been executed in the\n",
              "      current browser session. Please rerun this cell to enable.\n",
              "      </output>\n",
              "      <script>// Copyright 2017 Google LLC\n",
              "//\n",
              "// Licensed under the Apache License, Version 2.0 (the \"License\");\n",
              "// you may not use this file except in compliance with the License.\n",
              "// You may obtain a copy of the License at\n",
              "//\n",
              "//      http://www.apache.org/licenses/LICENSE-2.0\n",
              "//\n",
              "// Unless required by applicable law or agreed to in writing, software\n",
              "// distributed under the License is distributed on an \"AS IS\" BASIS,\n",
              "// WITHOUT WARRANTIES OR CONDITIONS OF ANY KIND, either express or implied.\n",
              "// See the License for the specific language governing permissions and\n",
              "// limitations under the License.\n",
              "\n",
              "/**\n",
              " * @fileoverview Helpers for google.colab Python module.\n",
              " */\n",
              "(function(scope) {\n",
              "function span(text, styleAttributes = {}) {\n",
              "  const element = document.createElement('span');\n",
              "  element.textContent = text;\n",
              "  for (const key of Object.keys(styleAttributes)) {\n",
              "    element.style[key] = styleAttributes[key];\n",
              "  }\n",
              "  return element;\n",
              "}\n",
              "\n",
              "// Max number of bytes which will be uploaded at a time.\n",
              "const MAX_PAYLOAD_SIZE = 100 * 1024;\n",
              "\n",
              "function _uploadFiles(inputId, outputId) {\n",
              "  const steps = uploadFilesStep(inputId, outputId);\n",
              "  const outputElement = document.getElementById(outputId);\n",
              "  // Cache steps on the outputElement to make it available for the next call\n",
              "  // to uploadFilesContinue from Python.\n",
              "  outputElement.steps = steps;\n",
              "\n",
              "  return _uploadFilesContinue(outputId);\n",
              "}\n",
              "\n",
              "// This is roughly an async generator (not supported in the browser yet),\n",
              "// where there are multiple asynchronous steps and the Python side is going\n",
              "// to poll for completion of each step.\n",
              "// This uses a Promise to block the python side on completion of each step,\n",
              "// then passes the result of the previous step as the input to the next step.\n",
              "function _uploadFilesContinue(outputId) {\n",
              "  const outputElement = document.getElementById(outputId);\n",
              "  const steps = outputElement.steps;\n",
              "\n",
              "  const next = steps.next(outputElement.lastPromiseValue);\n",
              "  return Promise.resolve(next.value.promise).then((value) => {\n",
              "    // Cache the last promise value to make it available to the next\n",
              "    // step of the generator.\n",
              "    outputElement.lastPromiseValue = value;\n",
              "    return next.value.response;\n",
              "  });\n",
              "}\n",
              "\n",
              "/**\n",
              " * Generator function which is called between each async step of the upload\n",
              " * process.\n",
              " * @param {string} inputId Element ID of the input file picker element.\n",
              " * @param {string} outputId Element ID of the output display.\n",
              " * @return {!Iterable<!Object>} Iterable of next steps.\n",
              " */\n",
              "function* uploadFilesStep(inputId, outputId) {\n",
              "  const inputElement = document.getElementById(inputId);\n",
              "  inputElement.disabled = false;\n",
              "\n",
              "  const outputElement = document.getElementById(outputId);\n",
              "  outputElement.innerHTML = '';\n",
              "\n",
              "  const pickedPromise = new Promise((resolve) => {\n",
              "    inputElement.addEventListener('change', (e) => {\n",
              "      resolve(e.target.files);\n",
              "    });\n",
              "  });\n",
              "\n",
              "  const cancel = document.createElement('button');\n",
              "  inputElement.parentElement.appendChild(cancel);\n",
              "  cancel.textContent = 'Cancel upload';\n",
              "  const cancelPromise = new Promise((resolve) => {\n",
              "    cancel.onclick = () => {\n",
              "      resolve(null);\n",
              "    };\n",
              "  });\n",
              "\n",
              "  // Wait for the user to pick the files.\n",
              "  const files = yield {\n",
              "    promise: Promise.race([pickedPromise, cancelPromise]),\n",
              "    response: {\n",
              "      action: 'starting',\n",
              "    }\n",
              "  };\n",
              "\n",
              "  cancel.remove();\n",
              "\n",
              "  // Disable the input element since further picks are not allowed.\n",
              "  inputElement.disabled = true;\n",
              "\n",
              "  if (!files) {\n",
              "    return {\n",
              "      response: {\n",
              "        action: 'complete',\n",
              "      }\n",
              "    };\n",
              "  }\n",
              "\n",
              "  for (const file of files) {\n",
              "    const li = document.createElement('li');\n",
              "    li.append(span(file.name, {fontWeight: 'bold'}));\n",
              "    li.append(span(\n",
              "        `(${file.type || 'n/a'}) - ${file.size} bytes, ` +\n",
              "        `last modified: ${\n",
              "            file.lastModifiedDate ? file.lastModifiedDate.toLocaleDateString() :\n",
              "                                    'n/a'} - `));\n",
              "    const percent = span('0% done');\n",
              "    li.appendChild(percent);\n",
              "\n",
              "    outputElement.appendChild(li);\n",
              "\n",
              "    const fileDataPromise = new Promise((resolve) => {\n",
              "      const reader = new FileReader();\n",
              "      reader.onload = (e) => {\n",
              "        resolve(e.target.result);\n",
              "      };\n",
              "      reader.readAsArrayBuffer(file);\n",
              "    });\n",
              "    // Wait for the data to be ready.\n",
              "    let fileData = yield {\n",
              "      promise: fileDataPromise,\n",
              "      response: {\n",
              "        action: 'continue',\n",
              "      }\n",
              "    };\n",
              "\n",
              "    // Use a chunked sending to avoid message size limits. See b/62115660.\n",
              "    let position = 0;\n",
              "    do {\n",
              "      const length = Math.min(fileData.byteLength - position, MAX_PAYLOAD_SIZE);\n",
              "      const chunk = new Uint8Array(fileData, position, length);\n",
              "      position += length;\n",
              "\n",
              "      const base64 = btoa(String.fromCharCode.apply(null, chunk));\n",
              "      yield {\n",
              "        response: {\n",
              "          action: 'append',\n",
              "          file: file.name,\n",
              "          data: base64,\n",
              "        },\n",
              "      };\n",
              "\n",
              "      let percentDone = fileData.byteLength === 0 ?\n",
              "          100 :\n",
              "          Math.round((position / fileData.byteLength) * 100);\n",
              "      percent.textContent = `${percentDone}% done`;\n",
              "\n",
              "    } while (position < fileData.byteLength);\n",
              "  }\n",
              "\n",
              "  // All done.\n",
              "  yield {\n",
              "    response: {\n",
              "      action: 'complete',\n",
              "    }\n",
              "  };\n",
              "}\n",
              "\n",
              "scope.google = scope.google || {};\n",
              "scope.google.colab = scope.google.colab || {};\n",
              "scope.google.colab._files = {\n",
              "  _uploadFiles,\n",
              "  _uploadFilesContinue,\n",
              "};\n",
              "})(self);\n",
              "</script> "
            ],
            "text/plain": [
              "<IPython.core.display.HTML object>"
            ]
          },
          "metadata": {},
          "output_type": "display_data"
        },
        {
          "name": "stdout",
          "output_type": "stream",
          "text": [
            "Saving puchased_data.csv to puchased_data.csv\n"
          ]
        }
      ],
      "source": [
        "#Practical implementation of apriori Algorithm\n",
        "#The retailer of a retail store is trying to find out an association rule between 5 items, to figure out which items are more often bought together so that he can keep the items together in order to increase sales.\n",
        "\n",
        "#Importing numpy and pandas library\n",
        "import numpy as np\n",
        "import pandas as pd\n",
        "\n",
        "#How to upload a csv file into Colab?\n",
        "from google.colab import files\n",
        "\n",
        "#It will prompt you to select a file.\n",
        "uploaded=files.upload()\n",
        "\n",
        "#Click on \"Choose Files\" then select and upload the file."
      ]
    },
    {
      "cell_type": "code",
      "execution_count": null,
      "metadata": {
        "colab": {
          "base_uri": "https://localhost:8080/"
        },
        "id": "eQh4HEAJdOid",
        "outputId": "2325bb15-451c-4cba-cc19-b1037c6c391e"
      },
      "outputs": [
        {
          "name": "stdout",
          "output_type": "stream",
          "text": [
            "   Bread  Chees    Eggs  Juice\n",
            "0  Bread  Chees   Juice    NaN\n",
            "1  Bread   Milk  Yogurt    NaN\n",
            "2  Bread  Juice    Milk    NaN\n",
            "3  Chees  Juice    Milk    NaN\n"
          ]
        }
      ],
      "source": [
        "#The io module provides Python's main facilities for dealing with various types of I/O.\n",
        "import io\n",
        "\n",
        "#Convert csv file into a dataframe.\n",
        "df=pd.read_csv(io.BytesIO(uploaded['puchased_data.csv']))\n",
        "\n",
        "#Dataset is now stored as Pandas Dataframe.\n",
        "print(df)"
      ]
    },
    {
      "cell_type": "code",
      "execution_count": null,
      "metadata": {
        "colab": {
          "base_uri": "https://localhost:8080/"
        },
        "id": "kEVFMhtKgI9t",
        "outputId": "7a62c474-12f2-4633-c0f1-c0703e04fd2b"
      },
      "outputs": [
        {
          "name": "stdout",
          "output_type": "stream",
          "text": [
            "Mounted at /content/drive\n"
          ]
        }
      ],
      "source": [
        "#Another way of uploading a csv file into Colab?\n",
        "#Mounting Google Drive\n",
        "from google.colab import drive\n",
        "drive.mount('/content/drive')\n"
      ]
    },
    {
      "cell_type": "code",
      "execution_count": null,
      "metadata": {
        "colab": {
          "base_uri": "https://localhost:8080/"
        },
        "id": "AcjlMfZghbZF",
        "outputId": "445e55ee-31e9-4b90-e175-723e519cbdd5"
      },
      "outputs": [
        {
          "name": "stdout",
          "output_type": "stream",
          "text": [
            "   Bread  Chees    Eggs  Juice\n",
            "0  Bread  Chees   Juice    NaN\n",
            "1  Bread   Milk  Yogurt    NaN\n",
            "2  Bread  Juice    Milk    NaN\n",
            "3  Chees  Juice    Milk    NaN\n"
          ]
        }
      ],
      "source": [
        "#Copy and paste the path of the file from Google Drive\n",
        "path=\"/content/drive/MyDrive/puchased_data.csv\"\n",
        "df=pd.read_csv(path)\n",
        "print(df)"
      ]
    },
    {
      "cell_type": "code",
      "execution_count": null,
      "metadata": {
        "colab": {
          "base_uri": "https://localhost:8080/"
        },
        "id": "yPIyoNI9ir08",
        "outputId": "12a08ad0-fc7b-4cc5-bfd2-19355627cbac"
      },
      "outputs": [
        {
          "name": "stdout",
          "output_type": "stream",
          "text": [
            "   Index      Customer Id First Name Last Name  \\\n",
            "0      1  DD37Cf93aecA6Dc     Sheryl    Baxter   \n",
            "1      2  1Ef7b82A4CAAD10    Preston    Lozano   \n",
            "2      3  6F94879bDAfE5a6        Roy     Berry   \n",
            "3      4  5Cef8BFA16c5e3c      Linda     Olsen   \n",
            "4      5  053d585Ab6b3159     Joanna    Bender   \n",
            "\n",
            "                           Company               City  \\\n",
            "0                  Rasmussen Group       East Leonard   \n",
            "1                      Vega-Gentry  East Jimmychester   \n",
            "2                    Murillo-Perry      Isabelborough   \n",
            "3  Dominguez, Mcmillan and Donovan         Bensonview   \n",
            "4         Martin, Lang and Andrade     West Priscilla   \n",
            "\n",
            "                      Country                 Phone 1                Phone 2  \\\n",
            "0                       Chile            229.077.5154       397.884.0519x718   \n",
            "1                    Djibouti              5153435776       686-620-1820x944   \n",
            "2         Antigua and Barbuda         +1-539-402-0259    (496)978-3969x58947   \n",
            "3          Dominican Republic  001-808-617-6467x12895        +1-813-324-8756   \n",
            "4  Slovakia (Slovak Republic)  001-234-203-0635x76146  001-199-446-3860x3486   \n",
            "\n",
            "                         Email Subscription Date                      Website  \n",
            "0     zunigavanessa@smith.info        2020-08-24   http://www.stephenson.com/  \n",
            "1              vmata@colon.com        2021-04-23        http://www.hobbs.com/  \n",
            "2          beckycarr@hogan.com        2020-03-25     http://www.lawrence.com/  \n",
            "3  stanleyblackwell@benson.org        2020-06-02   http://www.good-lyons.com/  \n",
            "4      colinalvarado@miles.net        2021-04-17  https://goodwin-ingram.com/  \n"
          ]
        }
      ],
      "source": [
        "#Third way to upload a csv file into Colab?\n",
        "#From Github (Files<25 MB)\n",
        "\n",
        "#Click on the dataset in your repository, then click on View Raw. Copy the link to the raw dataset and store it as a string variable called url in Colab as shwon below.\n",
        "url='https://media.githubusercontent.com/media/datablist/sample-csv-files/main/files/customers/customers-100.csv'\n",
        "df=pd.read_csv(url)\n",
        "print(df.head())"
      ]
    },
    {
      "cell_type": "code",
      "execution_count": null,
      "metadata": {
        "colab": {
          "base_uri": "https://localhost:8080/"
        },
        "id": "6BB1CLOJlhk7",
        "outputId": "40f44db3-5dfe-481c-e607-db1a23d01198"
      },
      "outputs": [
        {
          "name": "stdout",
          "output_type": "stream",
          "text": [
            "   Bread  Chees    Eggs  Juice\n",
            "0  Bread  Chees   Juice    NaN\n",
            "1  Bread   Milk  Yogurt    NaN\n",
            "2  Bread  Juice    Milk    NaN\n",
            "3  Chees  Juice    Milk    NaN\n"
          ]
        }
      ],
      "source": [
        "#Another Easiest way\n",
        "apr_df=pd.read_csv('/content/puchased_data.csv')\n",
        "print(apr_df)"
      ]
    },
    {
      "cell_type": "code",
      "execution_count": null,
      "metadata": {
        "colab": {
          "base_uri": "https://localhost:8080/"
        },
        "id": "GjgVr2d2rGKv",
        "outputId": "89cc5c01-f565-4c18-998b-b4562bef0948"
      },
      "outputs": [
        {
          "name": "stdout",
          "output_type": "stream",
          "text": [
            "       0      1       2      3\n",
            "0  Bread  Chees    Eggs  Juice\n",
            "1  Bread  Chees   Juice    NaN\n",
            "2  Bread   Milk  Yogurt    NaN\n",
            "3  Bread  Juice    Milk    NaN\n",
            "4  Chees  Juice    Milk    NaN\n"
          ]
        }
      ],
      "source": [
        "apr_df=pd.read_csv(\"/content/puchased_data.csv\",header=None)\n",
        "print(apr_df)"
      ]
    },
    {
      "cell_type": "code",
      "execution_count": null,
      "metadata": {
        "colab": {
          "base_uri": "https://localhost:8080/"
        },
        "id": "SLL9ueYgrR_f",
        "outputId": "229e8461-920e-4174-adde-c8d4f7b3d166"
      },
      "outputs": [
        {
          "name": "stdout",
          "output_type": "stream",
          "text": [
            "['Bread', 'Chees', 'Eggs', 'Juice', 'Bread', 'Chees', 'Juice', 'nan', 'Bread', 'Milk', 'Yogurt', 'nan', 'Bread', 'Juice', 'Milk', 'nan', 'Chees', 'Juice', 'Milk', 'nan']\n"
          ]
        }
      ],
      "source": [
        "#Association rule learning\n",
        "#To convert our pandas dataframe into a list of lists. #Not the correct way\n",
        "records=[]\n",
        "for i in range(0, len(apr_df)):\n",
        "  for j in range(0,4):\n",
        "    records.append(str(apr_df.values[i,j]))\n",
        "print(records)"
      ]
    },
    {
      "cell_type": "code",
      "execution_count": null,
      "metadata": {
        "colab": {
          "base_uri": "https://localhost:8080/"
        },
        "id": "hS77hhZqwZ-2",
        "outputId": "e7aa21ec-0a95-4543-e357-9b2c156597e2"
      },
      "outputs": [
        {
          "name": "stdout",
          "output_type": "stream",
          "text": [
            "[['Bread', 'Chees', 'Eggs', 'Juice'], ['Bread', 'Chees', 'Juice', 'nan'], ['Bread', 'Milk', 'Yogurt', 'nan'], ['Bread', 'Juice', 'Milk', 'nan'], ['Chees', 'Juice', 'Milk', 'nan']]\n"
          ]
        }
      ],
      "source": [
        "#Association rule learning\n",
        "#To convert our pandas dataframe into a list of lists. #Correct way\n",
        "records=[]\n",
        "for i in range(0, len(apr_df)):\n",
        "    records.append([str(apr_df.values[i,j]) for j in range(0,4)])\n",
        "print(records)"
      ]
    },
    {
      "cell_type": "code",
      "execution_count": null,
      "metadata": {
        "colab": {
          "base_uri": "https://localhost:8080/"
        },
        "id": "FE1p_vn9yQFk",
        "outputId": "9fd6e5ab-ae83-4b4a-c4a6-a14e86d22d37"
      },
      "outputs": [
        {
          "name": "stdout",
          "output_type": "stream",
          "text": [
            "Requirement already satisfied: apyori in /usr/local/lib/python3.10/dist-packages (1.1.2)\n"
          ]
        }
      ],
      "source": [
        "pip install apyori"
      ]
    },
    {
      "cell_type": "code",
      "execution_count": null,
      "metadata": {
        "colab": {
          "base_uri": "https://localhost:8080/"
        },
        "id": "LjlNNmCJxi_O",
        "outputId": "ee05a597-abf5-449f-d5c2-4ec0b77cf3d7"
      },
      "outputs": [
        {
          "name": "stdout",
          "output_type": "stream",
          "text": [
            "[RelationRecord(items=frozenset({'Bread'}), support=0.8, ordered_statistics=[OrderedStatistic(items_base=frozenset(), items_add=frozenset({'Bread'}), confidence=0.8, lift=1.0)]), RelationRecord(items=frozenset({'Juice'}), support=0.8, ordered_statistics=[OrderedStatistic(items_base=frozenset(), items_add=frozenset({'Juice'}), confidence=0.8, lift=1.0)]), RelationRecord(items=frozenset({'nan'}), support=0.8, ordered_statistics=[OrderedStatistic(items_base=frozenset(), items_add=frozenset({'nan'}), confidence=0.8, lift=1.0)]), RelationRecord(items=frozenset({'Juice', 'Chees'}), support=0.6, ordered_statistics=[OrderedStatistic(items_base=frozenset({'Chees'}), items_add=frozenset({'Juice'}), confidence=1.0, lift=1.25)]), RelationRecord(items=frozenset({'nan', 'Milk'}), support=0.6, ordered_statistics=[OrderedStatistic(items_base=frozenset({'Milk'}), items_add=frozenset({'nan'}), confidence=1.0, lift=1.25)])]\n"
          ]
        }
      ],
      "source": [
        "from apyori import apriori\n",
        "association_rules=apriori(records,min_support=0.5,min_confidence=0.75)\n",
        "association_results=list(association_rules)\n",
        "print(association_results)"
      ]
    },
    {
      "cell_type": "code",
      "execution_count": null,
      "metadata": {
        "colab": {
          "base_uri": "https://localhost:8080/"
        },
        "id": "lVKnBga31S4R",
        "outputId": "1f71ff96-8b04-4104-8e37-86277b99fad1"
      },
      "outputs": [
        {
          "name": "stdout",
          "output_type": "stream",
          "text": [
            "    Shoes    Skirt T-Skirt Unnamed: 3\n",
            "0   Jeans  T-Skirt     NaN        NaN\n",
            "1   Jeans   Shorts     NaN        NaN\n",
            "2   Jeans    Shoes   Skirt    T-Skirt\n",
            "3  Shorts    Shoes   Skirt        NaN\n"
          ]
        }
      ],
      "source": [
        "#Another Easiest way\n",
        "apr_df=pd.read_csv('/content/fashion_data.csv')\n",
        "print(apr_df)"
      ]
    },
    {
      "cell_type": "code",
      "execution_count": null,
      "metadata": {
        "colab": {
          "base_uri": "https://localhost:8080/"
        },
        "id": "yXGwU80i2dkA",
        "outputId": "316f14ef-e591-4836-8fb9-04f148f19936"
      },
      "outputs": [
        {
          "name": "stdout",
          "output_type": "stream",
          "text": [
            "[['Shoes', 'Skirt', 'T-Skirt'], ['Jeans', 'T-Skirt'], ['Jeans', 'Shorts'], ['Jeans', 'Shoes', 'Skirt', 'T-Skirt'], ['Shorts', 'Shoes', 'Skirt']]\n",
            "[RelationRecord(items=frozenset({'Jeans'}), support=0.6, ordered_statistics=[OrderedStatistic(items_base=frozenset(), items_add=frozenset({'Jeans'}), confidence=0.6, lift=1.0)]), RelationRecord(items=frozenset({'Shoes'}), support=0.6, ordered_statistics=[OrderedStatistic(items_base=frozenset(), items_add=frozenset({'Shoes'}), confidence=0.6, lift=1.0)]), RelationRecord(items=frozenset({'Skirt'}), support=0.6, ordered_statistics=[OrderedStatistic(items_base=frozenset(), items_add=frozenset({'Skirt'}), confidence=0.6, lift=1.0)]), RelationRecord(items=frozenset({'T-Skirt'}), support=0.6, ordered_statistics=[OrderedStatistic(items_base=frozenset(), items_add=frozenset({'T-Skirt'}), confidence=0.6, lift=1.0)]), RelationRecord(items=frozenset({'T-Skirt', 'Jeans'}), support=0.4, ordered_statistics=[OrderedStatistic(items_base=frozenset({'Jeans'}), items_add=frozenset({'T-Skirt'}), confidence=0.6666666666666667, lift=1.1111111111111114), OrderedStatistic(items_base=frozenset({'T-Skirt'}), items_add=frozenset({'Jeans'}), confidence=0.6666666666666667, lift=1.1111111111111114)]), RelationRecord(items=frozenset({'Shoes', 'Skirt'}), support=0.6, ordered_statistics=[OrderedStatistic(items_base=frozenset(), items_add=frozenset({'Shoes', 'Skirt'}), confidence=0.6, lift=1.0), OrderedStatistic(items_base=frozenset({'Shoes'}), items_add=frozenset({'Skirt'}), confidence=1.0, lift=1.6666666666666667), OrderedStatistic(items_base=frozenset({'Skirt'}), items_add=frozenset({'Shoes'}), confidence=1.0, lift=1.6666666666666667)]), RelationRecord(items=frozenset({'Shoes', 'T-Skirt'}), support=0.4, ordered_statistics=[OrderedStatistic(items_base=frozenset({'Shoes'}), items_add=frozenset({'T-Skirt'}), confidence=0.6666666666666667, lift=1.1111111111111114), OrderedStatistic(items_base=frozenset({'T-Skirt'}), items_add=frozenset({'Shoes'}), confidence=0.6666666666666667, lift=1.1111111111111114)]), RelationRecord(items=frozenset({'T-Skirt', 'Skirt'}), support=0.4, ordered_statistics=[OrderedStatistic(items_base=frozenset({'Skirt'}), items_add=frozenset({'T-Skirt'}), confidence=0.6666666666666667, lift=1.1111111111111114), OrderedStatistic(items_base=frozenset({'T-Skirt'}), items_add=frozenset({'Skirt'}), confidence=0.6666666666666667, lift=1.1111111111111114)]), RelationRecord(items=frozenset({'Shoes', 'T-Skirt', 'Skirt'}), support=0.4, ordered_statistics=[OrderedStatistic(items_base=frozenset({'Shoes'}), items_add=frozenset({'T-Skirt', 'Skirt'}), confidence=0.6666666666666667, lift=1.6666666666666667), OrderedStatistic(items_base=frozenset({'Skirt'}), items_add=frozenset({'Shoes', 'T-Skirt'}), confidence=0.6666666666666667, lift=1.6666666666666667), OrderedStatistic(items_base=frozenset({'T-Skirt'}), items_add=frozenset({'Shoes', 'Skirt'}), confidence=0.6666666666666667, lift=1.1111111111111114), OrderedStatistic(items_base=frozenset({'Shoes', 'Skirt'}), items_add=frozenset({'T-Skirt'}), confidence=0.6666666666666667, lift=1.1111111111111114), OrderedStatistic(items_base=frozenset({'Shoes', 'T-Skirt'}), items_add=frozenset({'Skirt'}), confidence=1.0, lift=1.6666666666666667), OrderedStatistic(items_base=frozenset({'T-Skirt', 'Skirt'}), items_add=frozenset({'Shoes'}), confidence=1.0, lift=1.6666666666666667)])]\n"
          ]
        }
      ],
      "source": [
        "#For Fashion Dataset with min_support = 0.4 & min confidence = 0.6\n",
        "f_records = []\n",
        "for i in range(0,  len(apr_f)):\n",
        "  a = []\n",
        "  f_records.append(a)\n",
        "  for j in range(0, 4):\n",
        "    if str(apr_f.values[i,j]) == 'nan':\n",
        "      pass\n",
        "    else:\n",
        "      f_records[i].append(str(apr_f.values[i,j]))\n",
        "print(f_records)\n",
        "association_rulef = apriori(f_records,min_support = 0.4, min_confidence=0.6)\n",
        "association_resultf = list(association_rulef)\n",
        "print(association_resultf)"
      ]
    }
  ],
  "metadata": {
    "colab": {
      "provenance": []
    },
    "kernelspec": {
      "display_name": "Python 3",
      "name": "python3"
    },
    "language_info": {
      "name": "python"
    }
  },
  "nbformat": 4,
  "nbformat_minor": 0
}
