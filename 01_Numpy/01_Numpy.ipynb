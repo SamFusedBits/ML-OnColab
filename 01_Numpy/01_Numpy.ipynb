{
  "cells": [
    {
      "cell_type": "code",
      "execution_count": null,
      "metadata": {},
      "outputs": [],
      "source": [
        " #Resources that would help\n",
        "#https://numpy.org/doc/stable/user/quickstart.html\n",
        "#https://www.w3schools.com/python/numpy/numpy_getting_started.asp "
      ]
    },
    {
      "cell_type": "code",
      "execution_count": null,
      "metadata": {
        "colab": {
          "base_uri": "https://localhost:8080/"
        },
        "id": "sVANyDMmSFFh",
        "outputId": "4a2a447c-39d9-4634-ac2a-4a60a1280473"
      },
      "outputs": [
        {
          "name": "stdout",
          "output_type": "stream",
          "text": [
            "55\n"
          ]
        }
      ],
      "source": [
        "import numpy as np\n",
        "#0-D array\n",
        "arr=np.array(55)\n",
        "print(arr)"
      ]
    },
    {
      "cell_type": "code",
      "execution_count": null,
      "metadata": {
        "colab": {
          "base_uri": "https://localhost:8080/"
        },
        "id": "AEnI69jwcmFd",
        "outputId": "e78e882f-913f-41e0-eac9-1dbc3c08127f"
      },
      "outputs": [
        {
          "name": "stdout",
          "output_type": "stream",
          "text": [
            "[1 2 3 4 5]\n"
          ]
        },
        {
          "data": {
            "text/plain": [
              "numpy.ndarray"
            ]
          },
          "execution_count": 147,
          "metadata": {},
          "output_type": "execute_result"
        }
      ],
      "source": [
        "np.__version__\n",
        "#1-D array or uni-dimensional\n",
        "arr=np.array([1,2,3,4,5])\n",
        "print(arr)\n",
        "type(arr)\n"
      ]
    },
    {
      "cell_type": "code",
      "execution_count": null,
      "metadata": {
        "colab": {
          "base_uri": "https://localhost:8080/"
        },
        "id": "7U6csrIyew_t",
        "outputId": "3c8d058c-7702-4f7b-f00b-03eb1145dc22"
      },
      "outputs": [
        {
          "name": "stdout",
          "output_type": "stream",
          "text": [
            "['MCA' '55' '24' '72.5']\n"
          ]
        },
        {
          "data": {
            "text/plain": [
              "numpy.ndarray"
            ]
          },
          "execution_count": 148,
          "metadata": {},
          "output_type": "execute_result"
        }
      ],
      "source": [
        "#Use a list to create a NumPy array Course, rollno, age and weight\n",
        "a=['MCA',55,24,72.5]\n",
        "arr=np.array(a)\n",
        "print(arr)\n",
        "type(a)\n",
        "type(arr)\n"
      ]
    },
    {
      "cell_type": "code",
      "execution_count": null,
      "metadata": {
        "colab": {
          "base_uri": "https://localhost:8080/"
        },
        "id": "Xnmxk98dfxL1",
        "outputId": "2cc1d893-bd0b-4bd1-9cef-597b2813a769"
      },
      "outputs": [
        {
          "name": "stdout",
          "output_type": "stream",
          "text": [
            "[1 2 3 4 5]\n"
          ]
        },
        {
          "data": {
            "text/plain": [
              "numpy.ndarray"
            ]
          },
          "execution_count": 149,
          "metadata": {},
          "output_type": "execute_result"
        }
      ],
      "source": [
        "#Use a tuple to create a NumPy array\n",
        "arr=np.array((1,2,3,4,5))\n",
        "print(arr)\n",
        "type(arr)"
      ]
    },
    {
      "cell_type": "code",
      "execution_count": null,
      "metadata": {
        "colab": {
          "base_uri": "https://localhost:8080/"
        },
        "id": "mrY8Vkd7gFId",
        "outputId": "fc290579-bce8-45a7-eeef-94642ec4c909"
      },
      "outputs": [
        {
          "data": {
            "text/plain": [
              "numpy.ndarray"
            ]
          },
          "execution_count": 150,
          "metadata": {},
          "output_type": "execute_result"
        }
      ],
      "source": [
        "#Assignment\n",
        "#1. Create a tuple T1 and assign a tuple to it. #2. Create array by using T1. #3. Check its type\n",
        "T1=(1,2,3,4,5)\n",
        "arr=np.array(T1)\n",
        "type(arr)\n"
      ]
    },
    {
      "cell_type": "code",
      "execution_count": null,
      "metadata": {
        "colab": {
          "base_uri": "https://localhost:8080/"
        },
        "id": "zlGTghvXikZb",
        "outputId": "d29dbf25-8049-41a5-c14f-daee3cfb3c6c"
      },
      "outputs": [
        {
          "data": {
            "text/plain": [
              "(2, 3)"
            ]
          },
          "execution_count": 151,
          "metadata": {},
          "output_type": "execute_result"
        }
      ],
      "source": [
        "#2-D array #Size must be same of both otherwise NumPy will consider as a normal object\n",
        "arr=np.array([[1,2,3],[4,5,6]])\n",
        "arr.shape"
      ]
    },
    {
      "cell_type": "code",
      "execution_count": null,
      "metadata": {
        "colab": {
          "base_uri": "https://localhost:8080/"
        },
        "id": "6DjntQtauhNr",
        "outputId": "a263bd4d-7141-4917-cbd5-ee9cfa038414"
      },
      "outputs": [
        {
          "name": "stdout",
          "output_type": "stream",
          "text": [
            "[[[1 2 3]\n",
            "  [4 5 6]]\n",
            "\n",
            " [[1 2 3]\n",
            "  [4 5 6]]]\n"
          ]
        },
        {
          "data": {
            "text/plain": [
              "(2, 2, 3)"
            ]
          },
          "execution_count": 152,
          "metadata": {},
          "output_type": "execute_result"
        }
      ],
      "source": [
        "arr=np.array([[[1,2,3],[4,5,6]],[[1,2,3],[4,5,6]]])\n",
        "print(arr)\n",
        "arr.shape"
      ]
    },
    {
      "cell_type": "code",
      "execution_count": null,
      "metadata": {
        "colab": {
          "base_uri": "https://localhost:8080/"
        },
        "id": "3CO9-J_twpSZ",
        "outputId": "21792478-4ee2-439d-91a6-b51d27eacaa2"
      },
      "outputs": [
        {
          "name": "stdout",
          "output_type": "stream",
          "text": [
            "6\n"
          ]
        }
      ],
      "source": [
        "#Array indexing\n",
        "#Get the first element from the following array:\n",
        "arr=np.array([1,2,3,4])\n",
        "arr[0]\n",
        "\n",
        "#Get the third element from the same array:\n",
        "arr[2]\n",
        "\n",
        "#Get second and fourth elements from the following array and add them.\n",
        "second_element = arr[1]\n",
        "fourth_element = arr[3]\n",
        "print(second_element + fourth_element)"
      ]
    },
    {
      "cell_type": "code",
      "execution_count": null,
      "metadata": {
        "colab": {
          "base_uri": "https://localhost:8080/"
        },
        "id": "T-O6svyex0Kx",
        "outputId": "091b6335-6117-4a45-c72d-0938ef686a07"
      },
      "outputs": [
        {
          "name": "stdout",
          "output_type": "stream",
          "text": [
            "[[ 1  2  3  4  5]\n",
            " [ 6  7  8  9 10]]\n"
          ]
        },
        {
          "data": {
            "text/plain": [
              "2"
            ]
          },
          "execution_count": 154,
          "metadata": {},
          "output_type": "execute_result"
        }
      ],
      "source": [
        "#Access the element on the first row, second column\n",
        "arr=np.array([[1,2,3,4,5],[6,7,8,9,10]])\n",
        "print(arr)\n",
        "arr[0,1]"
      ]
    },
    {
      "cell_type": "code",
      "execution_count": null,
      "metadata": {
        "colab": {
          "base_uri": "https://localhost:8080/"
        },
        "id": "1SLzCD8VRQWv",
        "outputId": "630efcc3-625c-4f48-eff0-56637fda6615"
      },
      "outputs": [
        {
          "data": {
            "text/plain": [
              "10"
            ]
          },
          "execution_count": 2,
          "metadata": {},
          "output_type": "execute_result"
        }
      ],
      "source": [
        "#Access the element on the 2nd row, 5th column\n",
        "arr=np.array([[1,2,3,4,5],[6,7,8,9,10]])\n",
        "arr[1,4]"
      ]
    },
    {
      "cell_type": "code",
      "execution_count": null,
      "metadata": {
        "colab": {
          "base_uri": "https://localhost:8080/"
        },
        "id": "DOTKM2puzy9A",
        "outputId": "d5bc2676-90c3-4d1b-cd12-55ac767e644b"
      },
      "outputs": [
        {
          "data": {
            "text/plain": [
              "6"
            ]
          },
          "execution_count": 155,
          "metadata": {},
          "output_type": "execute_result"
        }
      ],
      "source": [
        "#Access the third element of the second array of the first array\n",
        "arr=np.array([[[1,2,3],[4,5,6]],[[7,8,9],[10,11,12]]])\n",
        "arr[0,1,2]\n"
      ]
    },
    {
      "cell_type": "code",
      "execution_count": null,
      "metadata": {
        "colab": {
          "base_uri": "https://localhost:8080/"
        },
        "id": "qc2NqsgD0SVw",
        "outputId": "32d07614-f1b3-42bb-c786-4c0c398d1350"
      },
      "outputs": [
        {
          "data": {
            "text/plain": [
              "8"
            ]
          },
          "execution_count": 156,
          "metadata": {},
          "output_type": "execute_result"
        }
      ],
      "source": [
        "#Access the second element of the first array of the second array\n",
        "arr=np.array([[[1,2,3],[4,5,6]],[[7,8,9],[10,11,12]]])\n",
        "arr[1,0,1]\n"
      ]
    },
    {
      "cell_type": "code",
      "execution_count": null,
      "metadata": {
        "colab": {
          "base_uri": "https://localhost:8080/"
        },
        "id": "yfw8j9oW0i23",
        "outputId": "e60d4181-757a-4ceb-9c5d-300cfdc775fc"
      },
      "outputs": [
        {
          "data": {
            "text/plain": [
              "11"
            ]
          },
          "execution_count": 157,
          "metadata": {},
          "output_type": "execute_result"
        }
      ],
      "source": [
        "#Access the second element of the second array of the second array\n",
        "arr=np.array([[[1,2,3],[4,5,6]],[[7,8,9],[10,11,12]]])\n",
        "arr[1,1,1]"
      ]
    }
  ],
  "metadata": {
    "colab": {
      "provenance": []
    },
    "kernelspec": {
      "display_name": "Python 3",
      "name": "python3"
    },
    "language_info": {
      "name": "python"
    }
  },
  "nbformat": 4,
  "nbformat_minor": 0
}
