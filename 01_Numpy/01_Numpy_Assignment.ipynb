{
  "nbformat": 4,
  "nbformat_minor": 0,
  "metadata": {
    "colab": {
      "provenance": []
    },
    "kernelspec": {
      "name": "python3",
      "display_name": "Python 3"
    },
    "language_info": {
      "name": "python"
    }
  },
  "cells": [
    {
      "cell_type": "code",
      "execution_count": null,
      "metadata": {
        "colab": {
          "base_uri": "https://localhost:8080/"
        },
        "id": "3dOOnkhVG954",
        "outputId": "d5ba4840-8cd1-4949-f2fc-9ed4749ef214"
      },
      "outputs": [
        {
          "output_type": "execute_result",
          "data": {
            "text/plain": [
              "array([2, 3, 4, 5])"
            ]
          },
          "metadata": {},
          "execution_count": 2
        }
      ],
      "source": [
        "import numpy as np\n",
        "#Slice elements from index 1 to 5 from the following array:\n",
        "arr=np.array([1,2,3,4,5,6,7])\n",
        "arr[1:5]"
      ]
    },
    {
      "cell_type": "code",
      "source": [
        "#Slice elements from index 4 to the end of the array:\n",
        "arr=np.array([1,2,3,4,5,6,7])\n",
        "arr[4:]"
      ],
      "metadata": {
        "colab": {
          "base_uri": "https://localhost:8080/"
        },
        "id": "zsotp8mzHgEj",
        "outputId": "d538f5b5-2326-443d-d846-d6d2288ef8e0"
      },
      "execution_count": null,
      "outputs": [
        {
          "output_type": "execute_result",
          "data": {
            "text/plain": [
              "array([5, 6, 7])"
            ]
          },
          "metadata": {},
          "execution_count": 3
        }
      ]
    },
    {
      "cell_type": "code",
      "source": [
        "#Slice elements from the beginning to index 4:\n",
        "arr=np.array([1,2,3,4,5,6,7])\n",
        "arr[:4]"
      ],
      "metadata": {
        "colab": {
          "base_uri": "https://localhost:8080/"
        },
        "id": "kIV7neURHnju",
        "outputId": "1d34d5fc-e5fc-4bd5-cd2c-778685412eb1"
      },
      "execution_count": null,
      "outputs": [
        {
          "output_type": "execute_result",
          "data": {
            "text/plain": [
              "array([1, 2, 3, 4])"
            ]
          },
          "metadata": {},
          "execution_count": 6
        }
      ]
    },
    {
      "cell_type": "code",
      "source": [
        "#Return every other element from index 1 to index 5:\n",
        "arr=np.array([1,2,3,4,5,6,7])\n",
        "arr[1:5:2]"
      ],
      "metadata": {
        "colab": {
          "base_uri": "https://localhost:8080/"
        },
        "id": "azCgP53vILrT",
        "outputId": "785fe6d3-141b-478a-a33c-558f30209b83"
      },
      "execution_count": null,
      "outputs": [
        {
          "output_type": "execute_result",
          "data": {
            "text/plain": [
              "array([2, 4])"
            ]
          },
          "metadata": {},
          "execution_count": 7
        }
      ]
    },
    {
      "cell_type": "code",
      "source": [
        "#Slice from the index 3 from the end to index 1 from the end:\n",
        "arr=np.array([1,2,3,4,5,6,7])\n",
        "arr[-3:-1]"
      ],
      "metadata": {
        "colab": {
          "base_uri": "https://localhost:8080/"
        },
        "id": "W75RW21RIaeB",
        "outputId": "3b797256-865c-4e62-c8ea-f839acfd4e58"
      },
      "execution_count": null,
      "outputs": [
        {
          "output_type": "execute_result",
          "data": {
            "text/plain": [
              "array([5, 6])"
            ]
          },
          "metadata": {},
          "execution_count": 8
        }
      ]
    },
    {
      "cell_type": "code",
      "source": [
        "#Return every other element from the entire array:\n",
        "arr=np.array([1,2,3,4,5,6,7])\n",
        "arr[::2]"
      ],
      "metadata": {
        "colab": {
          "base_uri": "https://localhost:8080/"
        },
        "id": "52H5UPq5IgB3",
        "outputId": "1e5a18dc-b8c8-4b5c-ab4b-036f6bc4bf3c"
      },
      "execution_count": null,
      "outputs": [
        {
          "output_type": "execute_result",
          "data": {
            "text/plain": [
              "array([1, 3, 5, 7])"
            ]
          },
          "metadata": {},
          "execution_count": 9
        }
      ]
    },
    {
      "cell_type": "code",
      "source": [
        "#From the second element, slice elements from index 1 to index 4:\n",
        "arr=np.array([[1,2,3,4,5],[6,7,8,9,10]])\n",
        "arr[1,1:4]"
      ],
      "metadata": {
        "colab": {
          "base_uri": "https://localhost:8080/"
        },
        "id": "Cjh0fqVPIlLl",
        "outputId": "633d32c9-4205-4b3a-c3c6-456b9d22e978"
      },
      "execution_count": null,
      "outputs": [
        {
          "output_type": "execute_result",
          "data": {
            "text/plain": [
              "array([7, 8, 9])"
            ]
          },
          "metadata": {},
          "execution_count": 11
        }
      ]
    },
    {
      "cell_type": "code",
      "source": [
        "#Array Creation\n",
        "#The function creates an array full of zeros\n",
        "np.zeros((3,4))"
      ],
      "metadata": {
        "colab": {
          "base_uri": "https://localhost:8080/"
        },
        "id": "G29Jv8f8I65-",
        "outputId": "e5ae4530-9af2-4f92-c02a-8b42867a28bb"
      },
      "execution_count": null,
      "outputs": [
        {
          "output_type": "execute_result",
          "data": {
            "text/plain": [
              "array([[0., 0., 0., 0.],\n",
              "       [0., 0., 0., 0.],\n",
              "       [0., 0., 0., 0.]])"
            ]
          },
          "metadata": {},
          "execution_count": 12
        }
      ]
    },
    {
      "cell_type": "code",
      "source": [
        "#The function creates an array full of ones\n",
        "np.ones((3,4))"
      ],
      "metadata": {
        "colab": {
          "base_uri": "https://localhost:8080/"
        },
        "id": "qjui11meJJUB",
        "outputId": "483ec8d4-6eb6-453d-f5e1-a2e9b06b73a4"
      },
      "execution_count": null,
      "outputs": [
        {
          "output_type": "execute_result",
          "data": {
            "text/plain": [
              "array([[1., 1., 1., 1.],\n",
              "       [1., 1., 1., 1.],\n",
              "       [1., 1., 1., 1.]])"
            ]
          },
          "metadata": {},
          "execution_count": 13
        }
      ]
    },
    {
      "cell_type": "code",
      "source": [
        "#The function empty creates an array whose initial content is random and depends on the state of the memory\n",
        "np.empty((2,3))"
      ],
      "metadata": {
        "colab": {
          "base_uri": "https://localhost:8080/"
        },
        "id": "8HORt-MFJQo3",
        "outputId": "f9647539-26ff-493f-dc3a-98cd0956e62b"
      },
      "execution_count": null,
      "outputs": [
        {
          "output_type": "execute_result",
          "data": {
            "text/plain": [
              "array([[4.71008253e-310, 0.00000000e+000, 6.60198788e-310],\n",
              "       [6.60205063e-310, 6.60198788e-310, 6.60205063e-310]])"
            ]
          },
          "metadata": {},
          "execution_count": 14
        }
      ]
    },
    {
      "cell_type": "code",
      "source": [
        "#np.eye() -Return a 2-D array with ones on the diagonal and zeros elsewhere\n",
        "np.eye(4)"
      ],
      "metadata": {
        "colab": {
          "base_uri": "https://localhost:8080/"
        },
        "id": "nk2HxWGvJkcr",
        "outputId": "dbc9969c-1272-4346-82ba-8aa6908a80c3"
      },
      "execution_count": null,
      "outputs": [
        {
          "output_type": "execute_result",
          "data": {
            "text/plain": [
              "array([[1., 0., 0., 0.],\n",
              "       [0., 1., 0., 0.],\n",
              "       [0., 0., 1., 0.],\n",
              "       [0., 0., 0., 1.]])"
            ]
          },
          "metadata": {},
          "execution_count": 15
        }
      ]
    },
    {
      "cell_type": "code",
      "source": [
        "#Basic Operations\n",
        "A=np.array([[1,1],[0,1]])\n",
        "B=np.array([[2,0],[3,4]])\n",
        "\n",
        "A*B  #elementwise product"
      ],
      "metadata": {
        "colab": {
          "base_uri": "https://localhost:8080/"
        },
        "id": "4mfgYT3jJu3X",
        "outputId": "b20ccac2-2e31-4870-905c-af148acaf992"
      },
      "execution_count": null,
      "outputs": [
        {
          "output_type": "execute_result",
          "data": {
            "text/plain": [
              "array([[2, 0],\n",
              "       [0, 4]])"
            ]
          },
          "metadata": {},
          "execution_count": 16
        }
      ]
    },
    {
      "cell_type": "code",
      "source": [
        "#Basic Operations\n",
        "A=np.array([[1,1],[0,1]])\n",
        "B=np.array([[2,0],[3,4]])\n",
        "\n",
        "A@B  #matrix product"
      ],
      "metadata": {
        "colab": {
          "base_uri": "https://localhost:8080/"
        },
        "id": "jKr_UBN1KIDT",
        "outputId": "f673c5a6-5b0a-412d-dbb2-1c13c9184a9a"
      },
      "execution_count": null,
      "outputs": [
        {
          "output_type": "execute_result",
          "data": {
            "text/plain": [
              "array([[5, 4],\n",
              "       [3, 4]])"
            ]
          },
          "metadata": {},
          "execution_count": 18
        }
      ]
    },
    {
      "cell_type": "code",
      "source": [
        "#Basic Operations\n",
        "A=np.array([[1,1],[0,1]])\n",
        "B=np.array([[2,0],[3,4]])\n",
        "\n",
        "A.dot(B)  #another way of matrix product"
      ],
      "metadata": {
        "colab": {
          "base_uri": "https://localhost:8080/"
        },
        "id": "v5aNCj_lKNNY",
        "outputId": "bfdf1a96-36e8-4b33-98d8-e1be1f25b287"
      },
      "execution_count": null,
      "outputs": [
        {
          "output_type": "execute_result",
          "data": {
            "text/plain": [
              "array([[5, 4],\n",
              "       [3, 4]])"
            ]
          },
          "metadata": {},
          "execution_count": 20
        }
      ]
    }
  ]
}